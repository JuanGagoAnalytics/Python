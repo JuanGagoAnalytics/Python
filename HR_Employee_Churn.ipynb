{
  "nbformat": 4,
  "nbformat_minor": 0,
  "metadata": {
    "colab": {
      "name": "HR - Employee Churn.ipynb",
      "provenance": [],
      "collapsed_sections": [
        "rvQ0eQzBWj8y",
        "OdTn396tkusx",
        "u8Ls687LX2RT",
        "QbVXWx2YaCNd",
        "XWBpH9FRcP2G",
        "W5KXX4ffcoy1",
        "MfxooyvPkpQ-",
        "WrC8xPkdmAss",
        "-PZszIBSussB",
        "4Zv17D7K_X0W",
        "k3BV1q8PByQi",
        "pXLWBS-iK69S"
      ],
      "mount_file_id": "1DWVg8wOfycJl8ldROsD-rAjV4nrjKV1h",
      "authorship_tag": "ABX9TyOpfCbXeffgZLH5U9rg0Woc",
      "include_colab_link": true
    },
    "kernelspec": {
      "display_name": "Python 3",
      "name": "python3"
    },
    "widgets": {
      "application/vnd.jupyter.widget-state+json": {
        "7b150acc03b14fdf873649f792cb7ada": {
          "model_module": "@jupyter-widgets/controls",
          "model_name": "VBoxModel",
          "state": {
            "_view_name": "VBoxView",
            "_dom_classes": [
              "widget-interact"
            ],
            "_model_name": "VBoxModel",
            "_view_module": "@jupyter-widgets/controls",
            "_model_module_version": "1.5.0",
            "_view_count": null,
            "_view_module_version": "1.5.0",
            "box_style": "",
            "layout": "IPY_MODEL_490ae7090e24491db00b39b9d0dc1be4",
            "_model_module": "@jupyter-widgets/controls",
            "children": [
              "IPY_MODEL_f0d28ebdf41c4290ab4649dafa632ab5",
              "IPY_MODEL_a62856e348904fb89ee4c406b4ea26ac"
            ]
          }
        },
        "490ae7090e24491db00b39b9d0dc1be4": {
          "model_module": "@jupyter-widgets/base",
          "model_name": "LayoutModel",
          "state": {
            "_view_name": "LayoutView",
            "grid_template_rows": null,
            "right": null,
            "justify_content": null,
            "_view_module": "@jupyter-widgets/base",
            "overflow": null,
            "_model_module_version": "1.2.0",
            "_view_count": null,
            "flex_flow": null,
            "width": null,
            "min_width": null,
            "border": null,
            "align_items": null,
            "bottom": null,
            "_model_module": "@jupyter-widgets/base",
            "top": null,
            "grid_column": null,
            "overflow_y": null,
            "overflow_x": null,
            "grid_auto_flow": null,
            "grid_area": null,
            "grid_template_columns": null,
            "flex": null,
            "_model_name": "LayoutModel",
            "justify_items": null,
            "grid_row": null,
            "max_height": null,
            "align_content": null,
            "visibility": null,
            "align_self": null,
            "height": null,
            "min_height": null,
            "padding": null,
            "grid_auto_rows": null,
            "grid_gap": null,
            "max_width": null,
            "order": null,
            "_view_module_version": "1.2.0",
            "grid_template_areas": null,
            "object_position": null,
            "object_fit": null,
            "grid_auto_columns": null,
            "margin": null,
            "display": null,
            "left": null
          }
        },
        "f0d28ebdf41c4290ab4649dafa632ab5": {
          "model_module": "@jupyter-widgets/controls",
          "model_name": "FloatSliderModel",
          "state": {
            "_view_name": "FloatSliderView",
            "style": "IPY_MODEL_0d54742c0f1b47c3a591f1fa3fed5f68",
            "_dom_classes": [],
            "description": "punto_corte",
            "step": 0.01,
            "_model_name": "FloatSliderModel",
            "orientation": "horizontal",
            "max": 1,
            "_view_module": "@jupyter-widgets/controls",
            "_model_module_version": "1.5.0",
            "value": 0.5,
            "_view_count": null,
            "disabled": false,
            "_view_module_version": "1.5.0",
            "min": 0,
            "continuous_update": true,
            "readout_format": ".2f",
            "description_tooltip": null,
            "readout": true,
            "_model_module": "@jupyter-widgets/controls",
            "layout": "IPY_MODEL_b1c3df778f8d4bd9891ccdfb86e89ac4"
          }
        },
        "a62856e348904fb89ee4c406b4ea26ac": {
          "model_module": "@jupyter-widgets/output",
          "model_name": "OutputModel",
          "state": {
            "_view_name": "OutputView",
            "msg_id": "",
            "_dom_classes": [],
            "_model_name": "OutputModel",
            "outputs": [
              {
                "output_type": "display_data",
                "metadata": {
                  "tags": [],
                  "needs_background": "light"
                },
                "image/png": "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\n",
                "text/plain": "<Figure size 432x288 with 2 Axes>"
              }
            ],
            "_view_module": "@jupyter-widgets/output",
            "_model_module_version": "1.0.0",
            "_view_count": null,
            "_view_module_version": "1.0.0",
            "layout": "IPY_MODEL_500ef082e2ae4cce9d57fff54a54583c",
            "_model_module": "@jupyter-widgets/output"
          }
        },
        "0d54742c0f1b47c3a591f1fa3fed5f68": {
          "model_module": "@jupyter-widgets/controls",
          "model_name": "SliderStyleModel",
          "state": {
            "_view_name": "StyleView",
            "handle_color": null,
            "_model_name": "SliderStyleModel",
            "description_width": "",
            "_view_module": "@jupyter-widgets/base",
            "_model_module_version": "1.5.0",
            "_view_count": null,
            "_view_module_version": "1.2.0",
            "_model_module": "@jupyter-widgets/controls"
          }
        },
        "b1c3df778f8d4bd9891ccdfb86e89ac4": {
          "model_module": "@jupyter-widgets/base",
          "model_name": "LayoutModel",
          "state": {
            "_view_name": "LayoutView",
            "grid_template_rows": null,
            "right": null,
            "justify_content": null,
            "_view_module": "@jupyter-widgets/base",
            "overflow": null,
            "_model_module_version": "1.2.0",
            "_view_count": null,
            "flex_flow": null,
            "width": null,
            "min_width": null,
            "border": null,
            "align_items": null,
            "bottom": null,
            "_model_module": "@jupyter-widgets/base",
            "top": null,
            "grid_column": null,
            "overflow_y": null,
            "overflow_x": null,
            "grid_auto_flow": null,
            "grid_area": null,
            "grid_template_columns": null,
            "flex": null,
            "_model_name": "LayoutModel",
            "justify_items": null,
            "grid_row": null,
            "max_height": null,
            "align_content": null,
            "visibility": null,
            "align_self": null,
            "height": null,
            "min_height": null,
            "padding": null,
            "grid_auto_rows": null,
            "grid_gap": null,
            "max_width": null,
            "order": null,
            "_view_module_version": "1.2.0",
            "grid_template_areas": null,
            "object_position": null,
            "object_fit": null,
            "grid_auto_columns": null,
            "margin": null,
            "display": null,
            "left": null
          }
        },
        "500ef082e2ae4cce9d57fff54a54583c": {
          "model_module": "@jupyter-widgets/base",
          "model_name": "LayoutModel",
          "state": {
            "_view_name": "LayoutView",
            "grid_template_rows": null,
            "right": null,
            "justify_content": null,
            "_view_module": "@jupyter-widgets/base",
            "overflow": null,
            "_model_module_version": "1.2.0",
            "_view_count": null,
            "flex_flow": null,
            "width": null,
            "min_width": null,
            "border": null,
            "align_items": null,
            "bottom": null,
            "_model_module": "@jupyter-widgets/base",
            "top": null,
            "grid_column": null,
            "overflow_y": null,
            "overflow_x": null,
            "grid_auto_flow": null,
            "grid_area": null,
            "grid_template_columns": null,
            "flex": null,
            "_model_name": "LayoutModel",
            "justify_items": null,
            "grid_row": null,
            "max_height": null,
            "align_content": null,
            "visibility": null,
            "align_self": null,
            "height": null,
            "min_height": null,
            "padding": null,
            "grid_auto_rows": null,
            "grid_gap": null,
            "max_width": null,
            "order": null,
            "_view_module_version": "1.2.0",
            "grid_template_areas": null,
            "object_position": null,
            "object_fit": null,
            "grid_auto_columns": null,
            "margin": null,
            "display": null,
            "left": null
          }
        }
      }
    }
  },
  "cells": [
    {
      "cell_type": "markdown",
      "metadata": {
        "id": "view-in-github",
        "colab_type": "text"
      },
      "source": [
        "<a href=\"https://colab.research.google.com/github/JuanGagoAnalytics/Python/blob/master/HR_Employee_Churn.ipynb\" target=\"_parent\"><img src=\"https://colab.research.google.com/assets/colab-badge.svg\" alt=\"Open In Colab\"/></a>"
      ]
    },
    {
      "cell_type": "markdown",
      "metadata": {
        "id": "V0rjHqZoRocs"
      },
      "source": [
        "# **IMPORTAMOS LIBRERIAS**"
      ]
    },
    {
      "cell_type": "code",
      "metadata": {
        "id": "b0yKHz9SPkU7",
        "colab": {
          "base_uri": "https://localhost:8080/"
        },
        "outputId": "8af34ebf-a274-490e-ff02-2cfddb5ca860"
      },
      "source": [
        "import pandas as pd\n",
        "import matplotlib.pyplot as plt\n",
        "import numpy as np\n",
        "import seaborn as sns\n",
        "from sklearn.linear_model import LogisticRegression\n",
        "from sklearn.ensemble import RandomForestClassifier\n",
        "from sklearn.tree import DecisionTreeClassifier\n",
        "from sklearn.model_selection import GridSearchCV\n",
        "from sklearn.model_selection import train_test_split\n",
        "from sklearn.metrics import confusion_matrix\n",
        "\n",
        "\n",
        "hr=pd.read_csv(\"/content/drive/MyDrive/Colab Notebooks/Machine Learning/Employee Churn/WA_Fn-UseC_-HR-Employee-Attrition.csv\")\n",
        "hr=hr.drop([\"EmployeeNumber\", \"Over18\",\"EmployeeCount\",\"StandardHours\"], axis=1)\n",
        "hr"
      ],
      "execution_count": null,
      "outputs": [
        {
          "output_type": "execute_result",
          "data": {
            "text/html": [
              "<div>\n",
              "<style scoped>\n",
              "    .dataframe tbody tr th:only-of-type {\n",
              "        vertical-align: middle;\n",
              "    }\n",
              "\n",
              "    .dataframe tbody tr th {\n",
              "        vertical-align: top;\n",
              "    }\n",
              "\n",
              "    .dataframe thead th {\n",
              "        text-align: right;\n",
              "    }\n",
              "</style>\n",
              "<table border=\"1\" class=\"dataframe\">\n",
              "  <thead>\n",
              "    <tr style=\"text-align: right;\">\n",
              "      <th></th>\n",
              "      <th>Age</th>\n",
              "      <th>Attrition</th>\n",
              "      <th>BusinessTravel</th>\n",
              "      <th>DailyRate</th>\n",
              "      <th>Department</th>\n",
              "      <th>DistanceFromHome</th>\n",
              "      <th>Education</th>\n",
              "      <th>EducationField</th>\n",
              "      <th>EnvironmentSatisfaction</th>\n",
              "      <th>Gender</th>\n",
              "      <th>HourlyRate</th>\n",
              "      <th>JobInvolvement</th>\n",
              "      <th>JobLevel</th>\n",
              "      <th>JobRole</th>\n",
              "      <th>JobSatisfaction</th>\n",
              "      <th>MaritalStatus</th>\n",
              "      <th>MonthlyIncome</th>\n",
              "      <th>MonthlyRate</th>\n",
              "      <th>NumCompaniesWorked</th>\n",
              "      <th>OverTime</th>\n",
              "      <th>PercentSalaryHike</th>\n",
              "      <th>PerformanceRating</th>\n",
              "      <th>RelationshipSatisfaction</th>\n",
              "      <th>StockOptionLevel</th>\n",
              "      <th>TotalWorkingYears</th>\n",
              "      <th>TrainingTimesLastYear</th>\n",
              "      <th>WorkLifeBalance</th>\n",
              "      <th>YearsAtCompany</th>\n",
              "      <th>YearsInCurrentRole</th>\n",
              "      <th>YearsSinceLastPromotion</th>\n",
              "      <th>YearsWithCurrManager</th>\n",
              "    </tr>\n",
              "  </thead>\n",
              "  <tbody>\n",
              "    <tr>\n",
              "      <th>0</th>\n",
              "      <td>41</td>\n",
              "      <td>Yes</td>\n",
              "      <td>Travel_Rarely</td>\n",
              "      <td>1102</td>\n",
              "      <td>Sales</td>\n",
              "      <td>1</td>\n",
              "      <td>2</td>\n",
              "      <td>Life Sciences</td>\n",
              "      <td>2</td>\n",
              "      <td>Female</td>\n",
              "      <td>94</td>\n",
              "      <td>3</td>\n",
              "      <td>2</td>\n",
              "      <td>Sales Executive</td>\n",
              "      <td>4</td>\n",
              "      <td>Single</td>\n",
              "      <td>5993</td>\n",
              "      <td>19479</td>\n",
              "      <td>8</td>\n",
              "      <td>Yes</td>\n",
              "      <td>11</td>\n",
              "      <td>3</td>\n",
              "      <td>1</td>\n",
              "      <td>0</td>\n",
              "      <td>8</td>\n",
              "      <td>0</td>\n",
              "      <td>1</td>\n",
              "      <td>6</td>\n",
              "      <td>4</td>\n",
              "      <td>0</td>\n",
              "      <td>5</td>\n",
              "    </tr>\n",
              "    <tr>\n",
              "      <th>1</th>\n",
              "      <td>49</td>\n",
              "      <td>No</td>\n",
              "      <td>Travel_Frequently</td>\n",
              "      <td>279</td>\n",
              "      <td>Research &amp; Development</td>\n",
              "      <td>8</td>\n",
              "      <td>1</td>\n",
              "      <td>Life Sciences</td>\n",
              "      <td>3</td>\n",
              "      <td>Male</td>\n",
              "      <td>61</td>\n",
              "      <td>2</td>\n",
              "      <td>2</td>\n",
              "      <td>Research Scientist</td>\n",
              "      <td>2</td>\n",
              "      <td>Married</td>\n",
              "      <td>5130</td>\n",
              "      <td>24907</td>\n",
              "      <td>1</td>\n",
              "      <td>No</td>\n",
              "      <td>23</td>\n",
              "      <td>4</td>\n",
              "      <td>4</td>\n",
              "      <td>1</td>\n",
              "      <td>10</td>\n",
              "      <td>3</td>\n",
              "      <td>3</td>\n",
              "      <td>10</td>\n",
              "      <td>7</td>\n",
              "      <td>1</td>\n",
              "      <td>7</td>\n",
              "    </tr>\n",
              "    <tr>\n",
              "      <th>2</th>\n",
              "      <td>37</td>\n",
              "      <td>Yes</td>\n",
              "      <td>Travel_Rarely</td>\n",
              "      <td>1373</td>\n",
              "      <td>Research &amp; Development</td>\n",
              "      <td>2</td>\n",
              "      <td>2</td>\n",
              "      <td>Other</td>\n",
              "      <td>4</td>\n",
              "      <td>Male</td>\n",
              "      <td>92</td>\n",
              "      <td>2</td>\n",
              "      <td>1</td>\n",
              "      <td>Laboratory Technician</td>\n",
              "      <td>3</td>\n",
              "      <td>Single</td>\n",
              "      <td>2090</td>\n",
              "      <td>2396</td>\n",
              "      <td>6</td>\n",
              "      <td>Yes</td>\n",
              "      <td>15</td>\n",
              "      <td>3</td>\n",
              "      <td>2</td>\n",
              "      <td>0</td>\n",
              "      <td>7</td>\n",
              "      <td>3</td>\n",
              "      <td>3</td>\n",
              "      <td>0</td>\n",
              "      <td>0</td>\n",
              "      <td>0</td>\n",
              "      <td>0</td>\n",
              "    </tr>\n",
              "    <tr>\n",
              "      <th>3</th>\n",
              "      <td>33</td>\n",
              "      <td>No</td>\n",
              "      <td>Travel_Frequently</td>\n",
              "      <td>1392</td>\n",
              "      <td>Research &amp; Development</td>\n",
              "      <td>3</td>\n",
              "      <td>4</td>\n",
              "      <td>Life Sciences</td>\n",
              "      <td>4</td>\n",
              "      <td>Female</td>\n",
              "      <td>56</td>\n",
              "      <td>3</td>\n",
              "      <td>1</td>\n",
              "      <td>Research Scientist</td>\n",
              "      <td>3</td>\n",
              "      <td>Married</td>\n",
              "      <td>2909</td>\n",
              "      <td>23159</td>\n",
              "      <td>1</td>\n",
              "      <td>Yes</td>\n",
              "      <td>11</td>\n",
              "      <td>3</td>\n",
              "      <td>3</td>\n",
              "      <td>0</td>\n",
              "      <td>8</td>\n",
              "      <td>3</td>\n",
              "      <td>3</td>\n",
              "      <td>8</td>\n",
              "      <td>7</td>\n",
              "      <td>3</td>\n",
              "      <td>0</td>\n",
              "    </tr>\n",
              "    <tr>\n",
              "      <th>4</th>\n",
              "      <td>27</td>\n",
              "      <td>No</td>\n",
              "      <td>Travel_Rarely</td>\n",
              "      <td>591</td>\n",
              "      <td>Research &amp; Development</td>\n",
              "      <td>2</td>\n",
              "      <td>1</td>\n",
              "      <td>Medical</td>\n",
              "      <td>1</td>\n",
              "      <td>Male</td>\n",
              "      <td>40</td>\n",
              "      <td>3</td>\n",
              "      <td>1</td>\n",
              "      <td>Laboratory Technician</td>\n",
              "      <td>2</td>\n",
              "      <td>Married</td>\n",
              "      <td>3468</td>\n",
              "      <td>16632</td>\n",
              "      <td>9</td>\n",
              "      <td>No</td>\n",
              "      <td>12</td>\n",
              "      <td>3</td>\n",
              "      <td>4</td>\n",
              "      <td>1</td>\n",
              "      <td>6</td>\n",
              "      <td>3</td>\n",
              "      <td>3</td>\n",
              "      <td>2</td>\n",
              "      <td>2</td>\n",
              "      <td>2</td>\n",
              "      <td>2</td>\n",
              "    </tr>\n",
              "    <tr>\n",
              "      <th>...</th>\n",
              "      <td>...</td>\n",
              "      <td>...</td>\n",
              "      <td>...</td>\n",
              "      <td>...</td>\n",
              "      <td>...</td>\n",
              "      <td>...</td>\n",
              "      <td>...</td>\n",
              "      <td>...</td>\n",
              "      <td>...</td>\n",
              "      <td>...</td>\n",
              "      <td>...</td>\n",
              "      <td>...</td>\n",
              "      <td>...</td>\n",
              "      <td>...</td>\n",
              "      <td>...</td>\n",
              "      <td>...</td>\n",
              "      <td>...</td>\n",
              "      <td>...</td>\n",
              "      <td>...</td>\n",
              "      <td>...</td>\n",
              "      <td>...</td>\n",
              "      <td>...</td>\n",
              "      <td>...</td>\n",
              "      <td>...</td>\n",
              "      <td>...</td>\n",
              "      <td>...</td>\n",
              "      <td>...</td>\n",
              "      <td>...</td>\n",
              "      <td>...</td>\n",
              "      <td>...</td>\n",
              "      <td>...</td>\n",
              "    </tr>\n",
              "    <tr>\n",
              "      <th>1465</th>\n",
              "      <td>36</td>\n",
              "      <td>No</td>\n",
              "      <td>Travel_Frequently</td>\n",
              "      <td>884</td>\n",
              "      <td>Research &amp; Development</td>\n",
              "      <td>23</td>\n",
              "      <td>2</td>\n",
              "      <td>Medical</td>\n",
              "      <td>3</td>\n",
              "      <td>Male</td>\n",
              "      <td>41</td>\n",
              "      <td>4</td>\n",
              "      <td>2</td>\n",
              "      <td>Laboratory Technician</td>\n",
              "      <td>4</td>\n",
              "      <td>Married</td>\n",
              "      <td>2571</td>\n",
              "      <td>12290</td>\n",
              "      <td>4</td>\n",
              "      <td>No</td>\n",
              "      <td>17</td>\n",
              "      <td>3</td>\n",
              "      <td>3</td>\n",
              "      <td>1</td>\n",
              "      <td>17</td>\n",
              "      <td>3</td>\n",
              "      <td>3</td>\n",
              "      <td>5</td>\n",
              "      <td>2</td>\n",
              "      <td>0</td>\n",
              "      <td>3</td>\n",
              "    </tr>\n",
              "    <tr>\n",
              "      <th>1466</th>\n",
              "      <td>39</td>\n",
              "      <td>No</td>\n",
              "      <td>Travel_Rarely</td>\n",
              "      <td>613</td>\n",
              "      <td>Research &amp; Development</td>\n",
              "      <td>6</td>\n",
              "      <td>1</td>\n",
              "      <td>Medical</td>\n",
              "      <td>4</td>\n",
              "      <td>Male</td>\n",
              "      <td>42</td>\n",
              "      <td>2</td>\n",
              "      <td>3</td>\n",
              "      <td>Healthcare Representative</td>\n",
              "      <td>1</td>\n",
              "      <td>Married</td>\n",
              "      <td>9991</td>\n",
              "      <td>21457</td>\n",
              "      <td>4</td>\n",
              "      <td>No</td>\n",
              "      <td>15</td>\n",
              "      <td>3</td>\n",
              "      <td>1</td>\n",
              "      <td>1</td>\n",
              "      <td>9</td>\n",
              "      <td>5</td>\n",
              "      <td>3</td>\n",
              "      <td>7</td>\n",
              "      <td>7</td>\n",
              "      <td>1</td>\n",
              "      <td>7</td>\n",
              "    </tr>\n",
              "    <tr>\n",
              "      <th>1467</th>\n",
              "      <td>27</td>\n",
              "      <td>No</td>\n",
              "      <td>Travel_Rarely</td>\n",
              "      <td>155</td>\n",
              "      <td>Research &amp; Development</td>\n",
              "      <td>4</td>\n",
              "      <td>3</td>\n",
              "      <td>Life Sciences</td>\n",
              "      <td>2</td>\n",
              "      <td>Male</td>\n",
              "      <td>87</td>\n",
              "      <td>4</td>\n",
              "      <td>2</td>\n",
              "      <td>Manufacturing Director</td>\n",
              "      <td>2</td>\n",
              "      <td>Married</td>\n",
              "      <td>6142</td>\n",
              "      <td>5174</td>\n",
              "      <td>1</td>\n",
              "      <td>Yes</td>\n",
              "      <td>20</td>\n",
              "      <td>4</td>\n",
              "      <td>2</td>\n",
              "      <td>1</td>\n",
              "      <td>6</td>\n",
              "      <td>0</td>\n",
              "      <td>3</td>\n",
              "      <td>6</td>\n",
              "      <td>2</td>\n",
              "      <td>0</td>\n",
              "      <td>3</td>\n",
              "    </tr>\n",
              "    <tr>\n",
              "      <th>1468</th>\n",
              "      <td>49</td>\n",
              "      <td>No</td>\n",
              "      <td>Travel_Frequently</td>\n",
              "      <td>1023</td>\n",
              "      <td>Sales</td>\n",
              "      <td>2</td>\n",
              "      <td>3</td>\n",
              "      <td>Medical</td>\n",
              "      <td>4</td>\n",
              "      <td>Male</td>\n",
              "      <td>63</td>\n",
              "      <td>2</td>\n",
              "      <td>2</td>\n",
              "      <td>Sales Executive</td>\n",
              "      <td>2</td>\n",
              "      <td>Married</td>\n",
              "      <td>5390</td>\n",
              "      <td>13243</td>\n",
              "      <td>2</td>\n",
              "      <td>No</td>\n",
              "      <td>14</td>\n",
              "      <td>3</td>\n",
              "      <td>4</td>\n",
              "      <td>0</td>\n",
              "      <td>17</td>\n",
              "      <td>3</td>\n",
              "      <td>2</td>\n",
              "      <td>9</td>\n",
              "      <td>6</td>\n",
              "      <td>0</td>\n",
              "      <td>8</td>\n",
              "    </tr>\n",
              "    <tr>\n",
              "      <th>1469</th>\n",
              "      <td>34</td>\n",
              "      <td>No</td>\n",
              "      <td>Travel_Rarely</td>\n",
              "      <td>628</td>\n",
              "      <td>Research &amp; Development</td>\n",
              "      <td>8</td>\n",
              "      <td>3</td>\n",
              "      <td>Medical</td>\n",
              "      <td>2</td>\n",
              "      <td>Male</td>\n",
              "      <td>82</td>\n",
              "      <td>4</td>\n",
              "      <td>2</td>\n",
              "      <td>Laboratory Technician</td>\n",
              "      <td>3</td>\n",
              "      <td>Married</td>\n",
              "      <td>4404</td>\n",
              "      <td>10228</td>\n",
              "      <td>2</td>\n",
              "      <td>No</td>\n",
              "      <td>12</td>\n",
              "      <td>3</td>\n",
              "      <td>1</td>\n",
              "      <td>0</td>\n",
              "      <td>6</td>\n",
              "      <td>3</td>\n",
              "      <td>4</td>\n",
              "      <td>4</td>\n",
              "      <td>3</td>\n",
              "      <td>1</td>\n",
              "      <td>2</td>\n",
              "    </tr>\n",
              "  </tbody>\n",
              "</table>\n",
              "<p>1470 rows × 31 columns</p>\n",
              "</div>"
            ],
            "text/plain": [
              "      Age Attrition  ... YearsSinceLastPromotion  YearsWithCurrManager\n",
              "0      41       Yes  ...                       0                     5\n",
              "1      49        No  ...                       1                     7\n",
              "2      37       Yes  ...                       0                     0\n",
              "3      33        No  ...                       3                     0\n",
              "4      27        No  ...                       2                     2\n",
              "...   ...       ...  ...                     ...                   ...\n",
              "1465   36        No  ...                       0                     3\n",
              "1466   39        No  ...                       1                     7\n",
              "1467   27        No  ...                       0                     3\n",
              "1468   49        No  ...                       0                     8\n",
              "1469   34        No  ...                       1                     2\n",
              "\n",
              "[1470 rows x 31 columns]"
            ]
          },
          "metadata": {
            "tags": []
          },
          "execution_count": 1
        }
      ]
    },
    {
      "cell_type": "code",
      "metadata": {
        "colab": {
          "base_uri": "https://localhost:8080/"
        },
        "id": "EA7JzAaya_xj",
        "outputId": "73c776ed-7ad5-4176-f03d-3efc7e79d69c"
      },
      "source": [
        "hr.isna().sum()"
      ],
      "execution_count": null,
      "outputs": [
        {
          "output_type": "execute_result",
          "data": {
            "text/plain": [
              "Age                         0\n",
              "Attrition                   0\n",
              "BusinessTravel              0\n",
              "DailyRate                   0\n",
              "Department                  0\n",
              "DistanceFromHome            0\n",
              "Education                   0\n",
              "EducationField              0\n",
              "EnvironmentSatisfaction     0\n",
              "Gender                      0\n",
              "HourlyRate                  0\n",
              "JobInvolvement              0\n",
              "JobLevel                    0\n",
              "JobRole                     0\n",
              "JobSatisfaction             0\n",
              "MaritalStatus               0\n",
              "MonthlyIncome               0\n",
              "MonthlyRate                 0\n",
              "NumCompaniesWorked          0\n",
              "OverTime                    0\n",
              "PercentSalaryHike           0\n",
              "PerformanceRating           0\n",
              "RelationshipSatisfaction    0\n",
              "StockOptionLevel            0\n",
              "TotalWorkingYears           0\n",
              "TrainingTimesLastYear       0\n",
              "WorkLifeBalance             0\n",
              "YearsAtCompany              0\n",
              "YearsInCurrentRole          0\n",
              "YearsSinceLastPromotion     0\n",
              "YearsWithCurrManager        0\n",
              "dtype: int64"
            ]
          },
          "metadata": {
            "tags": []
          },
          "execution_count": 2
        }
      ]
    },
    {
      "cell_type": "code",
      "metadata": {
        "colab": {
          "base_uri": "https://localhost:8080/"
        },
        "id": "rhsYR37gGrYX",
        "outputId": "5d6c4074-6e9a-47ca-863a-3793f9842f5f"
      },
      "source": [
        "plt.figure(figsize=(28,28))\n",
        "sns.heatmap(hr.corr(), annot=True, fmt=\".0%\")"
      ],
      "execution_count": null,
      "outputs": [
        {
          "output_type": "execute_result",
          "data": {
            "text/plain": [
              "<matplotlib.axes._subplots.AxesSubplot at 0x7f1764dfe4a8>"
            ]
          },
          "metadata": {
            "tags": []
          },
          "execution_count": 3
        },
        {
          "output_type": "display_data",
          "data": {
            "image/png": "[encoded data removed]",
            "text/plain": [
              "<Figure size 2016x2016 with 2 Axes>"
            ]
          },
          "metadata": {
            "tags": [],
            "needs_background": "light"
          }
        }
      ]
    },
    {
      "cell_type": "markdown",
      "metadata": {
        "id": "m0gqJiTwWrdH"
      },
      "source": [
        "# **VARIABLES**"
      ]
    },
    {
      "cell_type": "markdown",
      "metadata": {
        "id": "rvQ0eQzBWj8y"
      },
      "source": [
        "## *Age*"
      ]
    },
    {
      "cell_type": "code",
      "metadata": {
        "colab": {
          "base_uri": "https://localhost:8080/"
        },
        "id": "Utzcl-ylXlgb",
        "outputId": "1af06675-bb6d-4304-8c4d-331aeb10cd15"
      },
      "source": [
        "hr.loc[hr[\"Age\"]<18]"
      ],
      "execution_count": null,
      "outputs": [
        {
          "output_type": "execute_result",
          "data": {
            "text/html": [
              "<div>\n",
              "<style scoped>\n",
              "    .dataframe tbody tr th:only-of-type {\n",
              "        vertical-align: middle;\n",
              "    }\n",
              "\n",
              "    .dataframe tbody tr th {\n",
              "        vertical-align: top;\n",
              "    }\n",
              "\n",
              "    .dataframe thead th {\n",
              "        text-align: right;\n",
              "    }\n",
              "</style>\n",
              "<table border=\"1\" class=\"dataframe\">\n",
              "  <thead>\n",
              "    <tr style=\"text-align: right;\">\n",
              "      <th></th>\n",
              "      <th>Age</th>\n",
              "      <th>Attrition</th>\n",
              "      <th>BusinessTravel</th>\n",
              "      <th>DailyRate</th>\n",
              "      <th>Department</th>\n",
              "      <th>DistanceFromHome</th>\n",
              "      <th>Education</th>\n",
              "      <th>EducationField</th>\n",
              "      <th>EnvironmentSatisfaction</th>\n",
              "      <th>Gender</th>\n",
              "      <th>HourlyRate</th>\n",
              "      <th>JobInvolvement</th>\n",
              "      <th>JobLevel</th>\n",
              "      <th>JobRole</th>\n",
              "      <th>JobSatisfaction</th>\n",
              "      <th>MaritalStatus</th>\n",
              "      <th>MonthlyIncome</th>\n",
              "      <th>MonthlyRate</th>\n",
              "      <th>NumCompaniesWorked</th>\n",
              "      <th>OverTime</th>\n",
              "      <th>PercentSalaryHike</th>\n",
              "      <th>PerformanceRating</th>\n",
              "      <th>RelationshipSatisfaction</th>\n",
              "      <th>StockOptionLevel</th>\n",
              "      <th>TotalWorkingYears</th>\n",
              "      <th>TrainingTimesLastYear</th>\n",
              "      <th>WorkLifeBalance</th>\n",
              "      <th>YearsAtCompany</th>\n",
              "      <th>YearsInCurrentRole</th>\n",
              "      <th>YearsSinceLastPromotion</th>\n",
              "      <th>YearsWithCurrManager</th>\n",
              "    </tr>\n",
              "  </thead>\n",
              "  <tbody>\n",
              "  </tbody>\n",
              "</table>\n",
              "</div>"
            ],
            "text/plain": [
              "Empty DataFrame\n",
              "Columns: [Age, Attrition, BusinessTravel, DailyRate, Department, DistanceFromHome, Education, EducationField, EnvironmentSatisfaction, Gender, HourlyRate, JobInvolvement, JobLevel, JobRole, JobSatisfaction, MaritalStatus, MonthlyIncome, MonthlyRate, NumCompaniesWorked, OverTime, PercentSalaryHike, PerformanceRating, RelationshipSatisfaction, StockOptionLevel, TotalWorkingYears, TrainingTimesLastYear, WorkLifeBalance, YearsAtCompany, YearsInCurrentRole, YearsSinceLastPromotion, YearsWithCurrManager]\n",
              "Index: []"
            ]
          },
          "metadata": {
            "tags": []
          },
          "execution_count": 4
        }
      ]
    },
    {
      "cell_type": "code",
      "metadata": {
        "id": "m2wADlzzRm5p",
        "colab": {
          "base_uri": "https://localhost:8080/"
        },
        "outputId": "cdff7012-bb60-4e6e-8eed-4ca8866ba7bc"
      },
      "source": [
        "hr.Age.unique()"
      ],
      "execution_count": null,
      "outputs": [
        {
          "output_type": "execute_result",
          "data": {
            "text/plain": [
              "array([41, 49, 37, 33, 27, 32, 59, 30, 38, 36, 35, 29, 31, 34, 28, 22, 53,\n",
              "       24, 21, 42, 44, 46, 39, 43, 50, 26, 48, 55, 45, 56, 23, 51, 40, 54,\n",
              "       58, 20, 25, 19, 57, 52, 47, 18, 60])"
            ]
          },
          "metadata": {
            "tags": []
          },
          "execution_count": 5
        }
      ]
    },
    {
      "cell_type": "code",
      "metadata": {
        "colab": {
          "base_uri": "https://localhost:8080/"
        },
        "id": "JHpR2gJIXRIj",
        "outputId": "5ea4e7ef-a13c-4061-be59-0df35726c1bb"
      },
      "source": [
        "boxplot1 = hr.boxplot(column= \"Age\",grid=False, fontsize=15)\n",
        "boxplot1"
      ],
      "execution_count": null,
      "outputs": [
        {
          "output_type": "execute_result",
          "data": {
            "text/plain": [
              "<matplotlib.axes._subplots.AxesSubplot at 0x7f1761b61cc0>"
            ]
          },
          "metadata": {
            "tags": []
          },
          "execution_count": 6
        },
        {
          "output_type": "display_data",
          "data": {
            "image/png": "[encoded data removed]",
            "text/plain": [
              "<Figure size 432x288 with 1 Axes>"
            ]
          },
          "metadata": {
            "tags": [],
            "needs_background": "light"
          }
        }
      ]
    },
    {
      "cell_type": "markdown",
      "metadata": {
        "id": "OdTn396tkusx"
      },
      "source": [
        "## *Attrition*"
      ]
    },
    {
      "cell_type": "code",
      "metadata": {
        "id": "GQFQzC3TkxB3"
      },
      "source": [
        "hr[\"Attrition\"]=np.where(hr[\"Attrition\"]==\"Yes\",1,0)"
      ],
      "execution_count": null,
      "outputs": []
    },
    {
      "cell_type": "markdown",
      "metadata": {
        "id": "u8Ls687LX2RT"
      },
      "source": [
        "## *Business Travel*"
      ]
    },
    {
      "cell_type": "code",
      "metadata": {
        "colab": {
          "base_uri": "https://localhost:8080/"
        },
        "id": "unFPspDMX3zd",
        "outputId": "e2d1c7df-2c50-4e78-d0d3-d9c1df447c65"
      },
      "source": [
        "hr.BusinessTravel.unique()"
      ],
      "execution_count": null,
      "outputs": [
        {
          "output_type": "execute_result",
          "data": {
            "text/plain": [
              "array(['Travel_Rarely', 'Travel_Frequently', 'Non-Travel'], dtype=object)"
            ]
          },
          "metadata": {
            "tags": []
          },
          "execution_count": 8
        }
      ]
    },
    {
      "cell_type": "code",
      "metadata": {
        "id": "X5iMnm2TYKAj"
      },
      "source": [
        "hr_dummy1 = pd.get_dummies(hr['BusinessTravel'])\n",
        "hr=pd.concat([hr, hr_dummy1], axis=1)\n",
        "hr=hr.drop(\"BusinessTravel\",axis=1)"
      ],
      "execution_count": null,
      "outputs": []
    },
    {
      "cell_type": "markdown",
      "metadata": {
        "id": "QbVXWx2YaCNd"
      },
      "source": [
        "## *Daily Rate*"
      ]
    },
    {
      "cell_type": "code",
      "metadata": {
        "colab": {
          "base_uri": "https://localhost:8080/"
        },
        "id": "SRyDkSawaF0T",
        "outputId": "12d41250-f5a4-4383-e4de-80b6bf1635cd"
      },
      "source": [
        "boxplot2 = hr.boxplot(column= \"DailyRate\",grid=False, fontsize=15)\n",
        "boxplot2"
      ],
      "execution_count": null,
      "outputs": [
        {
          "output_type": "execute_result",
          "data": {
            "text/plain": [
              "<matplotlib.axes._subplots.AxesSubplot at 0x7f17600dd9b0>"
            ]
          },
          "metadata": {
            "tags": []
          },
          "execution_count": 10
        },
        {
          "output_type": "display_data",
          "data": {
            "image/png": "[encoded data removed]",
            "text/plain": [
              "<Figure size 432x288 with 1 Axes>"
            ]
          },
          "metadata": {
            "tags": [],
            "needs_background": "light"
          }
        }
      ]
    },
    {
      "cell_type": "markdown",
      "metadata": {
        "id": "XWBpH9FRcP2G"
      },
      "source": [
        "## *Department*"
      ]
    },
    {
      "cell_type": "code",
      "metadata": {
        "colab": {
          "base_uri": "https://localhost:8080/"
        },
        "id": "DC5CAlOycMyb",
        "outputId": "82cb5ab3-7bd6-4c95-c94b-4df83ed4771e"
      },
      "source": [
        "hr.Department.unique()"
      ],
      "execution_count": null,
      "outputs": [
        {
          "output_type": "execute_result",
          "data": {
            "text/plain": [
              "array(['Sales', 'Research & Development', 'Human Resources'], dtype=object)"
            ]
          },
          "metadata": {
            "tags": []
          },
          "execution_count": 11
        }
      ]
    },
    {
      "cell_type": "code",
      "metadata": {
        "id": "5GYhfO5uccX1"
      },
      "source": [
        "hr_dummy2 = pd.get_dummies(hr['Department'])\n",
        "hr=pd.concat([hr, hr_dummy2], axis=1)\n",
        "hr=hr.drop(\"Department\",axis=1)"
      ],
      "execution_count": null,
      "outputs": []
    },
    {
      "cell_type": "markdown",
      "metadata": {
        "id": "W5KXX4ffcoy1"
      },
      "source": [
        "## *Education Field*"
      ]
    },
    {
      "cell_type": "code",
      "metadata": {
        "colab": {
          "base_uri": "https://localhost:8080/"
        },
        "id": "93ucAxwgcpLl",
        "outputId": "b9ea559b-0cfa-4fa2-d9ae-2b3181df7e57"
      },
      "source": [
        "hr.EducationField.unique()"
      ],
      "execution_count": null,
      "outputs": [
        {
          "output_type": "execute_result",
          "data": {
            "text/plain": [
              "array(['Life Sciences', 'Other', 'Medical', 'Marketing',\n",
              "       'Technical Degree', 'Human Resources'], dtype=object)"
            ]
          },
          "metadata": {
            "tags": []
          },
          "execution_count": 13
        }
      ]
    },
    {
      "cell_type": "code",
      "metadata": {
        "id": "tZGeTl5oi2M3"
      },
      "source": [
        "hr_dummy3 = pd.get_dummies(hr['EducationField'])\n",
        "hr=pd.concat([hr, hr_dummy3], axis=1)\n",
        "hr=hr.drop(\"EducationField\",axis=1)"
      ],
      "execution_count": null,
      "outputs": []
    },
    {
      "cell_type": "markdown",
      "metadata": {
        "id": "MfxooyvPkpQ-"
      },
      "source": [
        "## *Gender*"
      ]
    },
    {
      "cell_type": "code",
      "metadata": {
        "colab": {
          "base_uri": "https://localhost:8080/"
        },
        "id": "gCl7wTl7c5H-",
        "outputId": "fa97139c-c7de-450b-85fe-e88bedf7de87"
      },
      "source": [
        "hr.Gender.unique()"
      ],
      "execution_count": null,
      "outputs": [
        {
          "output_type": "execute_result",
          "data": {
            "text/plain": [
              "array(['Female', 'Male'], dtype=object)"
            ]
          },
          "metadata": {
            "tags": []
          },
          "execution_count": 15
        }
      ]
    },
    {
      "cell_type": "code",
      "metadata": {
        "id": "6nWOJo6IlUUH"
      },
      "source": [
        "hr_dummy4 = pd.get_dummies(hr['Gender'])\n",
        "hr=pd.concat([hr, hr_dummy4], axis=1)\n",
        "hr=hr.drop(\"Gender\",axis=1)"
      ],
      "execution_count": null,
      "outputs": []
    },
    {
      "cell_type": "markdown",
      "metadata": {
        "id": "WrC8xPkdmAss"
      },
      "source": [
        "## *Hourly Rate*"
      ]
    },
    {
      "cell_type": "code",
      "metadata": {
        "colab": {
          "base_uri": "https://localhost:8080/"
        },
        "id": "98jvjymclaAf",
        "outputId": "a4ef411e-0aa8-4910-ce30-0303c51c584c"
      },
      "source": [
        "boxplot3 = hr.boxplot(column= \"HourlyRate\",grid=False, fontsize=15)\n",
        "boxplot3"
      ],
      "execution_count": null,
      "outputs": [
        {
          "output_type": "execute_result",
          "data": {
            "text/plain": [
              "<matplotlib.axes._subplots.AxesSubplot at 0x7f17600c27f0>"
            ]
          },
          "metadata": {
            "tags": []
          },
          "execution_count": 17
        },
        {
          "output_type": "display_data",
          "data": {
            "image/png": "[encoded data removed]",
            "text/plain": [
              "<Figure size 432x288 with 1 Axes>"
            ]
          },
          "metadata": {
            "tags": [],
            "needs_background": "light"
          }
        }
      ]
    },
    {
      "cell_type": "markdown",
      "metadata": {
        "id": "-PZszIBSussB"
      },
      "source": [
        "## *Job Role*"
      ]
    },
    {
      "cell_type": "code",
      "metadata": {
        "colab": {
          "base_uri": "https://localhost:8080/"
        },
        "id": "e62Od-kTvFjH",
        "outputId": "085e3cfb-d152-4d18-c493-8faf32694e5b"
      },
      "source": [
        "hr.JobRole.unique()"
      ],
      "execution_count": null,
      "outputs": [
        {
          "output_type": "execute_result",
          "data": {
            "text/plain": [
              "array(['Sales Executive', 'Research Scientist', 'Laboratory Technician',\n",
              "       'Manufacturing Director', 'Healthcare Representative', 'Manager',\n",
              "       'Sales Representative', 'Research Director', 'Human Resources'],\n",
              "      dtype=object)"
            ]
          },
          "metadata": {
            "tags": []
          },
          "execution_count": 18
        }
      ]
    },
    {
      "cell_type": "code",
      "metadata": {
        "id": "l1pecJ6NvwD8"
      },
      "source": [
        "hr_dummy5 = pd.get_dummies(hr['JobRole'])\n",
        "hr=pd.concat([hr, hr_dummy5], axis=1)\n",
        "hr=hr.drop(\"JobRole\",axis=1)"
      ],
      "execution_count": null,
      "outputs": []
    },
    {
      "cell_type": "markdown",
      "metadata": {
        "id": "4Zv17D7K_X0W"
      },
      "source": [
        "## *Marital Status*"
      ]
    },
    {
      "cell_type": "code",
      "metadata": {
        "colab": {
          "base_uri": "https://localhost:8080/"
        },
        "id": "Zex7XssBa1_x",
        "outputId": "e36fbca6-ff83-448a-c99f-3cc680876daa"
      },
      "source": [
        "hr[[\"MaritalStatus\"]]"
      ],
      "execution_count": null,
      "outputs": [
        {
          "output_type": "execute_result",
          "data": {
            "text/html": [
              "<div>\n",
              "<style scoped>\n",
              "    .dataframe tbody tr th:only-of-type {\n",
              "        vertical-align: middle;\n",
              "    }\n",
              "\n",
              "    .dataframe tbody tr th {\n",
              "        vertical-align: top;\n",
              "    }\n",
              "\n",
              "    .dataframe thead th {\n",
              "        text-align: right;\n",
              "    }\n",
              "</style>\n",
              "<table border=\"1\" class=\"dataframe\">\n",
              "  <thead>\n",
              "    <tr style=\"text-align: right;\">\n",
              "      <th></th>\n",
              "      <th>MaritalStatus</th>\n",
              "    </tr>\n",
              "  </thead>\n",
              "  <tbody>\n",
              "    <tr>\n",
              "      <th>0</th>\n",
              "      <td>Single</td>\n",
              "    </tr>\n",
              "    <tr>\n",
              "      <th>1</th>\n",
              "      <td>Married</td>\n",
              "    </tr>\n",
              "    <tr>\n",
              "      <th>2</th>\n",
              "      <td>Single</td>\n",
              "    </tr>\n",
              "    <tr>\n",
              "      <th>3</th>\n",
              "      <td>Married</td>\n",
              "    </tr>\n",
              "    <tr>\n",
              "      <th>4</th>\n",
              "      <td>Married</td>\n",
              "    </tr>\n",
              "    <tr>\n",
              "      <th>...</th>\n",
              "      <td>...</td>\n",
              "    </tr>\n",
              "    <tr>\n",
              "      <th>1465</th>\n",
              "      <td>Married</td>\n",
              "    </tr>\n",
              "    <tr>\n",
              "      <th>1466</th>\n",
              "      <td>Married</td>\n",
              "    </tr>\n",
              "    <tr>\n",
              "      <th>1467</th>\n",
              "      <td>Married</td>\n",
              "    </tr>\n",
              "    <tr>\n",
              "      <th>1468</th>\n",
              "      <td>Married</td>\n",
              "    </tr>\n",
              "    <tr>\n",
              "      <th>1469</th>\n",
              "      <td>Married</td>\n",
              "    </tr>\n",
              "  </tbody>\n",
              "</table>\n",
              "<p>1470 rows × 1 columns</p>\n",
              "</div>"
            ],
            "text/plain": [
              "     MaritalStatus\n",
              "0           Single\n",
              "1          Married\n",
              "2           Single\n",
              "3          Married\n",
              "4          Married\n",
              "...            ...\n",
              "1465       Married\n",
              "1466       Married\n",
              "1467       Married\n",
              "1468       Married\n",
              "1469       Married\n",
              "\n",
              "[1470 rows x 1 columns]"
            ]
          },
          "metadata": {
            "tags": []
          },
          "execution_count": 20
        }
      ]
    },
    {
      "cell_type": "code",
      "metadata": {
        "id": "Vl_Wdj1E_lfF"
      },
      "source": [
        "hr_dummy5 = pd.get_dummies(hr['MaritalStatus'])\n",
        "hr=pd.concat([hr, hr_dummy5], axis=1)\n",
        "hr=hr.drop(\"MaritalStatus\",axis=1)"
      ],
      "execution_count": null,
      "outputs": []
    },
    {
      "cell_type": "code",
      "metadata": {
        "colab": {
          "base_uri": "https://localhost:8080/"
        },
        "id": "Ha8IrffcayUf",
        "outputId": "fada0310-e4a7-4a6b-bc71-ed2cbc38be5f"
      },
      "source": [
        "hr_dummy5"
      ],
      "execution_count": null,
      "outputs": [
        {
          "output_type": "execute_result",
          "data": {
            "text/html": [
              "<div>\n",
              "<style scoped>\n",
              "    .dataframe tbody tr th:only-of-type {\n",
              "        vertical-align: middle;\n",
              "    }\n",
              "\n",
              "    .dataframe tbody tr th {\n",
              "        vertical-align: top;\n",
              "    }\n",
              "\n",
              "    .dataframe thead th {\n",
              "        text-align: right;\n",
              "    }\n",
              "</style>\n",
              "<table border=\"1\" class=\"dataframe\">\n",
              "  <thead>\n",
              "    <tr style=\"text-align: right;\">\n",
              "      <th></th>\n",
              "      <th>Divorced</th>\n",
              "      <th>Married</th>\n",
              "      <th>Single</th>\n",
              "    </tr>\n",
              "  </thead>\n",
              "  <tbody>\n",
              "    <tr>\n",
              "      <th>0</th>\n",
              "      <td>0</td>\n",
              "      <td>0</td>\n",
              "      <td>1</td>\n",
              "    </tr>\n",
              "    <tr>\n",
              "      <th>1</th>\n",
              "      <td>0</td>\n",
              "      <td>1</td>\n",
              "      <td>0</td>\n",
              "    </tr>\n",
              "    <tr>\n",
              "      <th>2</th>\n",
              "      <td>0</td>\n",
              "      <td>0</td>\n",
              "      <td>1</td>\n",
              "    </tr>\n",
              "    <tr>\n",
              "      <th>3</th>\n",
              "      <td>0</td>\n",
              "      <td>1</td>\n",
              "      <td>0</td>\n",
              "    </tr>\n",
              "    <tr>\n",
              "      <th>4</th>\n",
              "      <td>0</td>\n",
              "      <td>1</td>\n",
              "      <td>0</td>\n",
              "    </tr>\n",
              "    <tr>\n",
              "      <th>...</th>\n",
              "      <td>...</td>\n",
              "      <td>...</td>\n",
              "      <td>...</td>\n",
              "    </tr>\n",
              "    <tr>\n",
              "      <th>1465</th>\n",
              "      <td>0</td>\n",
              "      <td>1</td>\n",
              "      <td>0</td>\n",
              "    </tr>\n",
              "    <tr>\n",
              "      <th>1466</th>\n",
              "      <td>0</td>\n",
              "      <td>1</td>\n",
              "      <td>0</td>\n",
              "    </tr>\n",
              "    <tr>\n",
              "      <th>1467</th>\n",
              "      <td>0</td>\n",
              "      <td>1</td>\n",
              "      <td>0</td>\n",
              "    </tr>\n",
              "    <tr>\n",
              "      <th>1468</th>\n",
              "      <td>0</td>\n",
              "      <td>1</td>\n",
              "      <td>0</td>\n",
              "    </tr>\n",
              "    <tr>\n",
              "      <th>1469</th>\n",
              "      <td>0</td>\n",
              "      <td>1</td>\n",
              "      <td>0</td>\n",
              "    </tr>\n",
              "  </tbody>\n",
              "</table>\n",
              "<p>1470 rows × 3 columns</p>\n",
              "</div>"
            ],
            "text/plain": [
              "      Divorced  Married  Single\n",
              "0            0        0       1\n",
              "1            0        1       0\n",
              "2            0        0       1\n",
              "3            0        1       0\n",
              "4            0        1       0\n",
              "...        ...      ...     ...\n",
              "1465         0        1       0\n",
              "1466         0        1       0\n",
              "1467         0        1       0\n",
              "1468         0        1       0\n",
              "1469         0        1       0\n",
              "\n",
              "[1470 rows x 3 columns]"
            ]
          },
          "metadata": {
            "tags": []
          },
          "execution_count": 22
        }
      ]
    },
    {
      "cell_type": "markdown",
      "metadata": {
        "id": "aLMX-4b7ASXO"
      },
      "source": [
        "## *Monthly Income*"
      ]
    },
    {
      "cell_type": "code",
      "metadata": {
        "colab": {
          "base_uri": "https://localhost:8080/"
        },
        "id": "g8yKbciGAYAT",
        "outputId": "c916cf72-5e1d-41ba-9a31-8eb41096c18d"
      },
      "source": [
        "boxplot4 = hr.boxplot(column= \"MonthlyIncome\",grid=False, fontsize=15)\n",
        "boxplot4"
      ],
      "execution_count": null,
      "outputs": [
        {
          "output_type": "execute_result",
          "data": {
            "text/plain": [
              "<matplotlib.axes._subplots.AxesSubplot at 0x7f176001dc18>"
            ]
          },
          "metadata": {
            "tags": []
          },
          "execution_count": 23
        },
        {
          "output_type": "display_data",
          "data": {
            "image/png": "[encoded data removed]",
            "text/plain": [
              "<Figure size 432x288 with 1 Axes>"
            ]
          },
          "metadata": {
            "tags": [],
            "needs_background": "light"
          }
        }
      ]
    },
    {
      "cell_type": "code",
      "metadata": {
        "id": "Xw86xD7Mv1y2",
        "colab": {
          "base_uri": "https://localhost:8080/"
        },
        "outputId": "b013a03e-246e-462d-873d-a921a085745e"
      },
      "source": [
        "Q1, Q3 = np.percentile(hr[\"MonthlyIncome\"], [25, 75])\n",
        "distancia = 1.5 * (Q3 - Q1) \n",
        "print (Q1,Q3,distancia)\n",
        "\n",
        "whis_inf = Q1-distancia \n",
        "whis_sup = Q3+distancia\n",
        "print(whis_inf,whis_sup)"
      ],
      "execution_count": null,
      "outputs": [
        {
          "output_type": "stream",
          "text": [
            "2911.0 8379.0 8202.0\n",
            "-5291.0 16581.0\n"
          ],
          "name": "stdout"
        }
      ]
    },
    {
      "cell_type": "code",
      "metadata": {
        "colab": {
          "base_uri": "https://localhost:8080/"
        },
        "id": "vf9xF4lsA3gi",
        "outputId": "6aee2607-34a5-4277-e806-9af43c8ab10c"
      },
      "source": [
        "print((hr['MonthlyIncome']> whis_sup).sum())\n",
        "print((hr['MonthlyIncome']> whis_sup).sum()/hr.shape[0])\n",
        "print((hr['MonthlyIncome']< whis_inf).sum())\n",
        "print((hr['MonthlyIncome']< whis_inf).sum()/hr.shape[0])"
      ],
      "execution_count": null,
      "outputs": [
        {
          "output_type": "stream",
          "text": [
            "114\n",
            "0.07755102040816327\n",
            "0\n",
            "0.0\n"
          ],
          "name": "stdout"
        }
      ]
    },
    {
      "cell_type": "code",
      "metadata": {
        "id": "h5_DoTB8Bdgb"
      },
      "source": [
        "hr=hr.loc[hr[\"MonthlyIncome\"]<=16581]"
      ],
      "execution_count": null,
      "outputs": []
    },
    {
      "cell_type": "markdown",
      "metadata": {
        "id": "k3BV1q8PByQi"
      },
      "source": [
        "##*Monthly Rate*"
      ]
    },
    {
      "cell_type": "code",
      "metadata": {
        "colab": {
          "base_uri": "https://localhost:8080/"
        },
        "id": "OQ0I5O3yBzNz",
        "outputId": "01143bf4-b8ed-494a-b8c9-7197bfb14073"
      },
      "source": [
        "boxplot5 = hr.boxplot(column= \"MonthlyRate\",grid=False, fontsize=15)\n",
        "boxplot5"
      ],
      "execution_count": null,
      "outputs": [
        {
          "output_type": "execute_result",
          "data": {
            "text/plain": [
              "<matplotlib.axes._subplots.AxesSubplot at 0x7f175fffebe0>"
            ]
          },
          "metadata": {
            "tags": []
          },
          "execution_count": 27
        },
        {
          "output_type": "display_data",
          "data": {
            "image/png": "[encoded data removed]",
            "text/plain": [
              "<Figure size 432x288 with 1 Axes>"
            ]
          },
          "metadata": {
            "tags": [],
            "needs_background": "light"
          }
        }
      ]
    },
    {
      "cell_type": "markdown",
      "metadata": {
        "id": "pXLWBS-iK69S"
      },
      "source": [
        "##*OverTime*"
      ]
    },
    {
      "cell_type": "code",
      "metadata": {
        "id": "Fbq38h3vK-CK"
      },
      "source": [
        "hr_dummy6 = pd.get_dummies(hr['OverTime'])\n",
        "hr=pd.concat([hr, hr_dummy6], axis=1)\n",
        "hr=hr.drop(\"OverTime\",axis=1)"
      ],
      "execution_count": null,
      "outputs": []
    },
    {
      "cell_type": "markdown",
      "metadata": {
        "id": "e9jpk7xVDOun"
      },
      "source": [
        "# **MODELO PREDICTIVO**"
      ]
    },
    {
      "cell_type": "markdown",
      "metadata": {
        "id": "or_lw_-dL_ZS"
      },
      "source": [
        "##*Gridsearch*"
      ]
    },
    {
      "cell_type": "code",
      "metadata": {
        "id": "I8q_TnLUDTPh"
      },
      "source": [
        "parameter_grid_rf = {\n",
        "    'max_depth': [1,2,3,4,5],\n",
        "    'max_features': [0.3, 0.5, 1.],\n",
        "    'n_estimators': [5, 10, 15]}\n",
        "\n",
        "parameter_grid_dt = {\n",
        "    'max_depth': [1,2,3,4,5],\n",
        "    'min_samples_split': [1, 2, 3]}\n",
        "\n",
        "grid_search_rf = GridSearchCV(RandomForestClassifier(), parameter_grid_rf,\n",
        "                            cv=5, verbose=3, refit=True, n_jobs=-1, scoring = \"accuracy\")\n",
        "\n",
        "grid_search_dt = GridSearchCV(DecisionTreeClassifier(), parameter_grid_dt,\n",
        "                            cv=5, verbose=3, refit=True, n_jobs=-1, scoring = \"accuracy\")"
      ],
      "execution_count": null,
      "outputs": []
    },
    {
      "cell_type": "code",
      "metadata": {
        "id": "GeS9_zEqKBSa"
      },
      "source": [
        "x=hr.drop([\"Attrition\"], axis=1)\n",
        "y=hr[\"Attrition\"]"
      ],
      "execution_count": null,
      "outputs": []
    },
    {
      "cell_type": "markdown",
      "metadata": {
        "id": "3qm1MujiKMM2"
      },
      "source": [
        "*Random Forest*"
      ]
    },
    {
      "cell_type": "code",
      "metadata": {
        "id": "eiv5h4lgKOdV"
      },
      "source": [
        "grid_search_rf.fit(x, y)"
      ],
      "execution_count": null,
      "outputs": []
    },
    {
      "cell_type": "code",
      "metadata": {
        "id": "gC0Bqmu5KPNG"
      },
      "source": [
        "grid_search_rf.best_estimator_"
      ],
      "execution_count": null,
      "outputs": []
    },
    {
      "cell_type": "code",
      "metadata": {
        "id": "UarKqMdJKR_H"
      },
      "source": [
        "grid_search_rf.best_params_"
      ],
      "execution_count": null,
      "outputs": []
    },
    {
      "cell_type": "code",
      "metadata": {
        "colab": {
          "base_uri": "https://localhost:8080/"
        },
        "id": "9APvZCR7KTXv",
        "outputId": "6de2732a-8f32-40ed-f89f-8e74e122c78e"
      },
      "source": [
        "grid_search_rf.best_score_"
      ],
      "execution_count": null,
      "outputs": [
        {
          "output_type": "execute_result",
          "data": {
            "text/plain": [
              "0.8510418927718689"
            ]
          },
          "metadata": {
            "tags": []
          },
          "execution_count": 34
        }
      ]
    },
    {
      "cell_type": "markdown",
      "metadata": {
        "id": "-fpD4ld-KWU-"
      },
      "source": [
        "*Decision Tree*"
      ]
    },
    {
      "cell_type": "code",
      "metadata": {
        "colab": {
          "base_uri": "https://localhost:8080/"
        },
        "id": "nbRV7umyKVun",
        "outputId": "7ab7f2e4-f9a2-45e2-d77d-fc71275114a1"
      },
      "source": [
        "grid_search_dt.fit(x, y)"
      ],
      "execution_count": null,
      "outputs": [
        {
          "output_type": "stream",
          "text": [
            "[Parallel(n_jobs=-1)]: Using backend LokyBackend with 2 concurrent workers.\n"
          ],
          "name": "stderr"
        },
        {
          "output_type": "stream",
          "text": [
            "Fitting 5 folds for each of 15 candidates, totalling 75 fits\n"
          ],
          "name": "stdout"
        },
        {
          "output_type": "stream",
          "text": [
            "[Parallel(n_jobs=-1)]: Done  72 tasks      | elapsed:    0.5s\n",
            "[Parallel(n_jobs=-1)]: Done  75 out of  75 | elapsed:    0.5s finished\n"
          ],
          "name": "stderr"
        },
        {
          "output_type": "execute_result",
          "data": {
            "text/plain": [
              "GridSearchCV(cv=5, error_score=nan,\n",
              "             estimator=DecisionTreeClassifier(ccp_alpha=0.0, class_weight=None,\n",
              "                                              criterion='gini', max_depth=None,\n",
              "                                              max_features=None,\n",
              "                                              max_leaf_nodes=None,\n",
              "                                              min_impurity_decrease=0.0,\n",
              "                                              min_impurity_split=None,\n",
              "                                              min_samples_leaf=1,\n",
              "                                              min_samples_split=2,\n",
              "                                              min_weight_fraction_leaf=0.0,\n",
              "                                              presort='deprecated',\n",
              "                                              random_state=None,\n",
              "                                              splitter='best'),\n",
              "             iid='deprecated', n_jobs=-1,\n",
              "             param_grid={'max_depth': [1, 2, 3, 4, 5],\n",
              "                         'min_samples_split': [1, 2, 3]},\n",
              "             pre_dispatch='2*n_jobs', refit=True, return_train_score=False,\n",
              "             scoring='accuracy', verbose=3)"
            ]
          },
          "metadata": {
            "tags": []
          },
          "execution_count": 35
        }
      ]
    },
    {
      "cell_type": "code",
      "metadata": {
        "colab": {
          "base_uri": "https://localhost:8080/"
        },
        "id": "aAlV7BaTKduR",
        "outputId": "3eab7b65-72ba-44bb-a0ba-333a5b7d4dfa"
      },
      "source": [
        "grid_search_dt.best_estimator_"
      ],
      "execution_count": null,
      "outputs": [
        {
          "output_type": "execute_result",
          "data": {
            "text/plain": [
              "DecisionTreeClassifier(ccp_alpha=0.0, class_weight=None, criterion='gini',\n",
              "                       max_depth=3, max_features=None, max_leaf_nodes=None,\n",
              "                       min_impurity_decrease=0.0, min_impurity_split=None,\n",
              "                       min_samples_leaf=1, min_samples_split=2,\n",
              "                       min_weight_fraction_leaf=0.0, presort='deprecated',\n",
              "                       random_state=None, splitter='best')"
            ]
          },
          "metadata": {
            "tags": []
          },
          "execution_count": 36
        }
      ]
    },
    {
      "cell_type": "code",
      "metadata": {
        "colab": {
          "base_uri": "https://localhost:8080/"
        },
        "id": "svSlPli0Kfpy",
        "outputId": "50a829ab-a245-4adc-ce17-4a512a296f9d"
      },
      "source": [
        "grid_search_dt.best_params_"
      ],
      "execution_count": null,
      "outputs": [
        {
          "output_type": "execute_result",
          "data": {
            "text/plain": [
              "{'max_depth': 3, 'min_samples_split': 2}"
            ]
          },
          "metadata": {
            "tags": []
          },
          "execution_count": 37
        }
      ]
    },
    {
      "cell_type": "code",
      "metadata": {
        "colab": {
          "base_uri": "https://localhost:8080/"
        },
        "id": "mfkS7uPWKhNZ",
        "outputId": "d65a74d5-9a70-4239-b846-5935cf45a89e"
      },
      "source": [
        "grid_search_dt.best_score_"
      ],
      "execution_count": null,
      "outputs": [
        {
          "output_type": "execute_result",
          "data": {
            "text/plain": [
              "0.8429210983286304"
            ]
          },
          "metadata": {
            "tags": []
          },
          "execution_count": 38
        }
      ]
    },
    {
      "cell_type": "markdown",
      "metadata": {
        "id": "uAtByxBMMO7I"
      },
      "source": [
        "## *Modelo 1*"
      ]
    },
    {
      "cell_type": "code",
      "metadata": {
        "colab": {
          "base_uri": "https://localhost:8080/"
        },
        "id": "HD3L-lcZMOHx",
        "outputId": "7698d71e-149a-4162-99c4-001a0bdf5640"
      },
      "source": [
        "x_train, x_test, y_train, y_test = train_test_split(x, y, test_size=0.3, random_state=15)\n",
        "\n",
        "print(x_train.shape[0], x_test.shape[0])"
      ],
      "execution_count": null,
      "outputs": [
        {
          "output_type": "stream",
          "text": [
            "949 407\n"
          ],
          "name": "stdout"
        }
      ]
    },
    {
      "cell_type": "code",
      "metadata": {
        "id": "q75o8q0UMaxj"
      },
      "source": [
        "rfmod= RandomForestClassifier(max_depth=5, max_features=0.5, n_estimators=10)\n",
        "rfmod.fit(x_train,y_train)"
      ],
      "execution_count": null,
      "outputs": []
    },
    {
      "cell_type": "code",
      "metadata": {
        "colab": {
          "base_uri": "https://localhost:8080/"
        },
        "id": "87Jl1C5_Mc__",
        "outputId": "875ec379-9d9d-4b12-9258-3405eb23597c"
      },
      "source": [
        "rfmod.score(x_test,y_test)"
      ],
      "execution_count": null,
      "outputs": [
        {
          "output_type": "execute_result",
          "data": {
            "text/plain": [
              "0.8427518427518428"
            ]
          },
          "metadata": {
            "tags": []
          },
          "execution_count": 41
        }
      ]
    },
    {
      "cell_type": "markdown",
      "metadata": {
        "id": "as1vaNGq_iiJ"
      },
      "source": [
        "## *Modelo 2*"
      ]
    },
    {
      "cell_type": "code",
      "metadata": {
        "colab": {
          "base_uri": "https://localhost:8080/"
        },
        "id": "Cac0dR6n_Ncq",
        "outputId": "f4c82b73-e41b-4e33-923d-1ce74ab8914c"
      },
      "source": [
        "dtmod= DecisionTreeClassifier(max_depth= 3, min_samples_split= 2)\r\n",
        "dtmod.fit(x_train, y_train)"
      ],
      "execution_count": null,
      "outputs": [
        {
          "output_type": "execute_result",
          "data": {
            "text/plain": [
              "DecisionTreeClassifier(ccp_alpha=0.0, class_weight=None, criterion='gini',\n",
              "                       max_depth=3, max_features=None, max_leaf_nodes=None,\n",
              "                       min_impurity_decrease=0.0, min_impurity_split=None,\n",
              "                       min_samples_leaf=1, min_samples_split=2,\n",
              "                       min_weight_fraction_leaf=0.0, presort='deprecated',\n",
              "                       random_state=None, splitter='best')"
            ]
          },
          "metadata": {
            "tags": []
          },
          "execution_count": 42
        }
      ]
    },
    {
      "cell_type": "code",
      "metadata": {
        "colab": {
          "base_uri": "https://localhost:8080/"
        },
        "id": "flhu4FYV_oXK",
        "outputId": "3611bc6c-e882-46bf-e248-59ced9001919"
      },
      "source": [
        "dtmod.score(x_test,y_test)"
      ],
      "execution_count": null,
      "outputs": [
        {
          "output_type": "execute_result",
          "data": {
            "text/plain": [
              "0.8157248157248157"
            ]
          },
          "metadata": {
            "tags": []
          },
          "execution_count": 43
        }
      ]
    },
    {
      "cell_type": "markdown",
      "metadata": {
        "id": "mgZTdbl8M3V7"
      },
      "source": [
        "## *Matriz de Confusion*"
      ]
    },
    {
      "cell_type": "code",
      "metadata": {
        "id": "i1PBxJPLOD9i"
      },
      "source": [
        "from __future__ import print_function\n",
        "from ipywidgets import interact, interactive, fixed, interact_manual\n",
        "import ipywidgets as widgets"
      ],
      "execution_count": null,
      "outputs": []
    },
    {
      "cell_type": "code",
      "metadata": {
        "id": "IAS9NbwM2oUQ"
      },
      "source": [
        "pred_rf=rfmod.predict_proba(x_test)\r\n",
        "pred_dt=dtmod.predict_proba(x_test)"
      ],
      "execution_count": null,
      "outputs": []
    },
    {
      "cell_type": "code",
      "metadata": {
        "id": "O8qJfLjDOMRO"
      },
      "source": [
        "def f(punto_corte=0.5):\n",
        "  y_pred=np.where(pred_rf>punto_corte, 1, 0)\n",
        "  conf_mat=pd.crosstab(y_test, y_pred[:,1], rownames=['Actual'], colnames=['Predicted'])\n",
        "  sns.heatmap(conf_mat, annot=True, fmt='g')"
      ],
      "execution_count": null,
      "outputs": []
    },
    {
      "cell_type": "code",
      "metadata": {
        "colab": {
          "base_uri": "https://localhost:8080/",
          "height": 311,
          "referenced_widgets": [
            "7b150acc03b14fdf873649f792cb7ada",
            "490ae7090e24491db00b39b9d0dc1be4",
            "f0d28ebdf41c4290ab4649dafa632ab5",
            "a62856e348904fb89ee4c406b4ea26ac",
            "0d54742c0f1b47c3a591f1fa3fed5f68",
            "b1c3df778f8d4bd9891ccdfb86e89ac4",
            "500ef082e2ae4cce9d57fff54a54583c"
          ]
        },
        "id": "xFxJ3jOzPV6y",
        "outputId": "01cdbca1-580b-461a-9a64-e693f6004afa"
      },
      "source": [
        "interact(f, punto_corte=(0, 1, 0.01));"
      ],
      "execution_count": null,
      "outputs": [
        {
          "output_type": "display_data",
          "data": {
            "application/vnd.jupyter.widget-view+json": {
              "model_id": "7b150acc03b14fdf873649f792cb7ada",
              "version_minor": 0,
              "version_major": 2
            },
            "text/plain": [
              "interactive(children=(FloatSlider(value=0.5, description='punto_corte', max=1.0, step=0.01), Output()), _dom_c…"
            ]
          },
          "metadata": {
            "tags": []
          }
        }
      ]
    },
    {
      "cell_type": "markdown",
      "metadata": {
        "id": "SBHRcysU5x--"
      },
      "source": [
        "# **ROC CURVE**"
      ]
    },
    {
      "cell_type": "code",
      "metadata": {
        "id": "N76YQI8w5zyk"
      },
      "source": [
        "from sklearn.metrics import roc_curve, roc_auc_score\r\n",
        "r_probs = [0 for _ in range(len(y_test))]\r\n",
        "rf_probs=pred_rf[:,1]\r\n",
        "dt_probs=pred_dt[:,1]"
      ],
      "execution_count": null,
      "outputs": []
    },
    {
      "cell_type": "code",
      "metadata": {
        "id": "rzdZpKGC8Sj5"
      },
      "source": [
        "r_auc = roc_auc_score(y_test, r_probs)\r\n",
        "rf_auc=roc_auc_score(y_test, rf_probs)\r\n",
        "dt_auc=roc_auc_score(y_test, dt_probs)"
      ],
      "execution_count": null,
      "outputs": []
    },
    {
      "cell_type": "code",
      "metadata": {
        "id": "E4D6KxiT-brT",
        "colab": {
          "base_uri": "https://localhost:8080/"
        },
        "outputId": "2e5971fc-669e-4354-c9d9-60fb5a992a7a"
      },
      "source": [
        "print('Random (chance) Prediction: AUROC = %.3f' % (r_auc))\r\n",
        "print('Random Forest: AUROC = %.3f' % (rf_auc))\r\n",
        "print('Decision Tree: AUROC = %.3f' % (dt_auc))"
      ],
      "execution_count": null,
      "outputs": [
        {
          "output_type": "stream",
          "text": [
            "Random (chance) Prediction: AUROC = 0.500\n",
            "Random Forest: AUROC = 0.735\n",
            "Decision Tree: AUROC = 0.627\n"
          ],
          "name": "stdout"
        }
      ]
    },
    {
      "cell_type": "code",
      "metadata": {
        "id": "KDfO9BrM8cJl"
      },
      "source": [
        "r_fpr, r_tpr, _ = roc_curve(y_test, r_probs)\r\n",
        "dt_fpr, dt_tpr, _ = roc_curve(y_test, dt_probs)\r\n",
        "rf_fpr, rf_tpr, _ = roc_curve(y_test, rf_probs)"
      ],
      "execution_count": null,
      "outputs": []
    },
    {
      "cell_type": "code",
      "metadata": {
        "colab": {
          "base_uri": "https://localhost:8080/",
          "height": 295
        },
        "id": "xdmQAu9K8vDe",
        "outputId": "07889599-43ef-4589-dfc5-39d15de63fa5"
      },
      "source": [
        "plt.plot(r_fpr, r_tpr, linestyle='--', label='Random prediction (AUROC = %0.3f)' % r_auc)\r\n",
        "plt.plot(rf_fpr, rf_tpr, marker='.', label='Random Forest (AUROC = %0.3f)' % rf_auc)\r\n",
        "plt.plot(dt_fpr, dt_tpr, marker='.', label='Random Forest (AUROC = %0.3f)' % dt_auc)\r\n",
        "\r\n",
        "# Title\r\n",
        "plt.title('ROC Plot')\r\n",
        "# Axis labels\r\n",
        "plt.xlabel('False Positive Rate')\r\n",
        "plt.ylabel('True Positive Rate')\r\n",
        "# Show legend\r\n",
        "plt.legend() # \r\n",
        "# Show plot\r\n",
        "plt.show()"
      ],
      "execution_count": null,
      "outputs": [
        {
          "output_type": "display_data",
          "data": {
            "image/png": "[encoded data removed]",
            "text/plain": [
              "<Figure size 432x288 with 1 Axes>"
            ]
          },
          "metadata": {
            "tags": [],
            "needs_background": "light"
          }
        }
      ]
    }
  ]
}